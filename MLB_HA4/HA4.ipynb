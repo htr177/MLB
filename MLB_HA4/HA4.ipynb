{
 "cells": [
  {
   "cell_type": "markdown",
   "metadata": {},
   "source": [
    "Imports"
   ]
  },
  {
   "cell_type": "code",
   "execution_count": 33,
   "metadata": {},
   "outputs": [],
   "source": [
    "import numpy as np\n",
    "from sklearn.preprocessing import StandardScaler\n",
    "from sklearn.svm import SVC\n",
    "from sklearn.model_selection import GridSearchCV\n",
    "from sklearn.metrics import zero_one_loss"
   ]
  },
  {
   "cell_type": "markdown",
   "metadata": {},
   "source": [
    "Read data"
   ]
  },
  {
   "cell_type": "code",
   "execution_count": 34,
   "metadata": {},
   "outputs": [],
   "source": [
    "X_train = np.loadtxt('X_train_binary.csv', delimiter=',')\n",
    "y_train = np.loadtxt('y_train_binary.csv', delimiter=',')\n",
    "X_test = np.loadtxt('X_test_binary.csv', delimiter=',')\n",
    "y_test = np.loadtxt('y_test_binary.csv', delimiter=',')"
   ]
  },
  {
   "cell_type": "markdown",
   "metadata": {},
   "source": [
    "Class frequencies"
   ]
  },
  {
   "cell_type": "code",
   "execution_count": 35,
   "metadata": {},
   "outputs": [
    {
     "name": "stdout",
     "output_type": "stream",
     "text": [
      "Class frequencies for training data:\n",
      "Class -1: 45.33%\n",
      "Class 1: 54.67%\n",
      "\n",
      "Class frequencies for testing data:\n",
      "Class -1: 46.95%\n",
      "Class 1: 53.05%\n"
     ]
    }
   ],
   "source": [
    "# Calculate class frequencies for training data\n",
    "unique_classes_train, class_counts_train = np.unique(y_train, return_counts=True)\n",
    "total_data_points_train = len(y_train)\n",
    "\n",
    "print(\"Class frequencies for training data:\")\n",
    "for class_label, class_count in zip(unique_classes_train, class_counts_train):\n",
    "    class_frequency = class_count / total_data_points_train\n",
    "    print(f\"Class {int(class_label)}: {class_frequency:.2%}\")\n",
    "\n",
    "# Calculate class frequencies for testing data\n",
    "unique_classes_test, class_counts_test = np.unique(y_test, return_counts=True)\n",
    "total_data_points_test = len(y_test)\n",
    "\n",
    "print(\"\\nClass frequencies for testing data:\")\n",
    "for class_label, class_count in zip(unique_classes_test, class_counts_test):\n",
    "    class_frequency = class_count / total_data_points_test\n",
    "    print(f\"Class {int(class_label)}: {class_frequency:.2%}\")"
   ]
  },
  {
   "cell_type": "markdown",
   "metadata": {},
   "source": [
    "Normalization"
   ]
  },
  {
   "cell_type": "code",
   "execution_count": 36,
   "metadata": {},
   "outputs": [
    {
     "name": "stdout",
     "output_type": "stream",
     "text": [
      "\n",
      "Mean and variance of training data after normalization:\n",
      "Mean: 0.00\n",
      "Variance: 1.00\n"
     ]
    }
   ],
   "source": [
    "# Normalize training data to zero mean and unit variance\n",
    "scaler = sklearn.preprocessing.StandardScaler()\n",
    "scaler.fit(X_train)\n",
    "X_train_scaled = scaler.transform(X_train)\n",
    "\n",
    "print(\"\\nMean and variance of training data after normalization:\")\n",
    "print(f\"Mean: {np.mean(X_train_scaled):.2f}\")\n",
    "print(f\"Variance: {np.var(X_train_scaled):.2f}\")"
   ]
  },
  {
   "cell_type": "code",
   "execution_count": 37,
   "metadata": {},
   "outputs": [
    {
     "name": "stdout",
     "output_type": "stream",
     "text": [
      "Feature 1: Mean = 0.0000, Variance = 1.0000\n",
      "Feature 2: Mean = 0.0000, Variance = 1.0000\n",
      "Feature 3: Mean = -0.0000, Variance = 1.0000\n",
      "Feature 4: Mean = 0.0000, Variance = 1.0000\n",
      "Feature 5: Mean = 0.0000, Variance = 1.0000\n",
      "Feature 6: Mean = 0.0000, Variance = 1.0000\n",
      "Feature 7: Mean = -0.0000, Variance = 1.0000\n",
      "Feature 8: Mean = 0.0000, Variance = 1.0000\n",
      "Feature 9: Mean = 0.0000, Variance = 1.0000\n",
      "Feature 10: Mean = -0.0000, Variance = 1.0000\n",
      "Feature 11: Mean = -0.0000, Variance = 1.0000\n",
      "Feature 12: Mean = -0.0000, Variance = 1.0000\n",
      "Feature 13: Mean = -0.0000, Variance = 1.0000\n",
      "Feature 14: Mean = -0.0000, Variance = 1.0000\n",
      "Feature 15: Mean = -0.0000, Variance = 1.0000\n",
      "Feature 16: Mean = 0.0000, Variance = 1.0000\n",
      "Feature 17: Mean = 0.0000, Variance = 1.0000\n",
      "Feature 18: Mean = 0.0000, Variance = 1.0000\n",
      "Feature 19: Mean = 0.0000, Variance = 1.0000\n",
      "Feature 20: Mean = 0.0000, Variance = 1.0000\n",
      "Feature 21: Mean = -0.0000, Variance = 1.0000\n",
      "Feature 22: Mean = 0.0000, Variance = 1.0000\n",
      "Feature 23: Mean = -0.0000, Variance = 1.0000\n",
      "Feature 24: Mean = -0.0000, Variance = 1.0000\n",
      "Feature 25: Mean = -0.0000, Variance = 1.0000\n",
      "Feature 26: Mean = -0.0000, Variance = 1.0000\n",
      "Feature 27: Mean = 0.0000, Variance = 1.0000\n",
      "Feature 28: Mean = 0.0000, Variance = 1.0000\n",
      "Feature 29: Mean = 0.0000, Variance = 1.0000\n",
      "Feature 30: Mean = 0.0000, Variance = 1.0000\n",
      "Feature 31: Mean = 0.0000, Variance = 1.0000\n",
      "Feature 32: Mean = 0.0000, Variance = 1.0000\n",
      "Feature 33: Mean = -0.0000, Variance = 1.0000\n",
      "Feature 34: Mean = -0.0000, Variance = 1.0000\n",
      "Feature 35: Mean = 0.0000, Variance = 1.0000\n",
      "Feature 36: Mean = -0.0000, Variance = 1.0000\n",
      "Feature 37: Mean = 0.0000, Variance = 1.0000\n",
      "Feature 38: Mean = -0.0000, Variance = 1.0000\n",
      "Feature 39: Mean = 0.0000, Variance = 1.0000\n",
      "Feature 40: Mean = -0.0000, Variance = 1.0000\n",
      "Feature 41: Mean = -0.0000, Variance = 1.0000\n",
      "Feature 42: Mean = -0.0000, Variance = 1.0000\n",
      "Feature 43: Mean = 0.0000, Variance = 1.0000\n",
      "Feature 44: Mean = 0.0000, Variance = 1.0000\n",
      "Feature 45: Mean = -0.0000, Variance = 1.0000\n",
      "Feature 46: Mean = 0.0000, Variance = 1.0000\n",
      "Feature 47: Mean = -0.0000, Variance = 1.0000\n",
      "Feature 48: Mean = -0.0000, Variance = 1.0000\n",
      "Feature 49: Mean = -0.0000, Variance = 1.0000\n",
      "Feature 50: Mean = 0.0000, Variance = 1.0000\n",
      "Feature 51: Mean = 0.0000, Variance = 1.0000\n",
      "Feature 52: Mean = -0.0000, Variance = 1.0000\n",
      "Feature 53: Mean = 0.0000, Variance = 1.0000\n",
      "Feature 54: Mean = 0.0000, Variance = 1.0000\n",
      "Feature 55: Mean = 0.0000, Variance = 1.0000\n",
      "Feature 56: Mean = -0.0000, Variance = 1.0000\n",
      "Feature 57: Mean = 0.0000, Variance = 1.0000\n",
      "Feature 58: Mean = 0.0000, Variance = 1.0000\n",
      "Feature 59: Mean = -0.0000, Variance = 1.0000\n",
      "Feature 60: Mean = -0.0000, Variance = 1.0000\n",
      "Feature 61: Mean = 0.0000, Variance = 1.0000\n"
     ]
    }
   ],
   "source": [
    "# Compute the mean and variance of input features independently\n",
    "mean_values = np.mean(X_train_scaled, axis=0)\n",
    "variance_values = np.var(X_train_scaled, axis=0)\n",
    "\n",
    "# Print the mean and variance for each feature\n",
    "for feature_index, (mean, variance) in enumerate(zip(mean_values, variance_values)):\n",
    "    print(f\"Feature {feature_index + 1}: Mean = {mean:.4f}, Variance = {variance:.4f}\")\n"
   ]
  },
  {
   "cell_type": "markdown",
   "metadata": {},
   "source": [
    "Test data encoding, mean and variance of input features"
   ]
  },
  {
   "cell_type": "code",
   "execution_count": 38,
   "metadata": {},
   "outputs": [
    {
     "name": "stdout",
     "output_type": "stream",
     "text": [
      "Feature 1: Mean = 0.0904, Variance = 1.9290\n",
      "Feature 2: Mean = 0.1658, Variance = 7.2771\n",
      "Feature 3: Mean = -0.0632, Variance = 0.7855\n",
      "Feature 4: Mean = -0.0802, Variance = 0.7411\n",
      "Feature 5: Mean = -0.0379, Variance = 0.8555\n",
      "Feature 6: Mean = -0.1084, Variance = 0.9803\n",
      "Feature 7: Mean = -0.1047, Variance = 1.0681\n",
      "Feature 8: Mean = -0.2116, Variance = 2.8828\n",
      "Feature 9: Mean = 0.2688, Variance = 2.9717\n",
      "Feature 10: Mean = 0.0805, Variance = 1.4777\n",
      "Feature 11: Mean = 0.0141, Variance = 1.0939\n",
      "Feature 12: Mean = 0.0575, Variance = 1.1381\n",
      "Feature 13: Mean = 0.0139, Variance = 1.1177\n",
      "Feature 14: Mean = 0.0035, Variance = 1.2449\n",
      "Feature 15: Mean = 0.1325, Variance = 1.2656\n",
      "Feature 16: Mean = 0.0234, Variance = 1.0073\n",
      "Feature 17: Mean = 0.1302, Variance = 1.1311\n",
      "Feature 18: Mean = 0.1306, Variance = 3.8939\n",
      "Feature 19: Mean = 0.0252, Variance = 5.7140\n",
      "Feature 20: Mean = 0.1006, Variance = 5.0024\n",
      "Feature 21: Mean = 0.4756, Variance = 54.2813\n",
      "Feature 22: Mean = 0.1081, Variance = 1.4396\n",
      "Feature 23: Mean = 0.0482, Variance = 1.0228\n",
      "Feature 24: Mean = -0.1166, Variance = 0.9728\n",
      "Feature 25: Mean = 0.1106, Variance = 0.8535\n",
      "Feature 26: Mean = 0.0175, Variance = 1.1609\n",
      "Feature 27: Mean = -0.1017, Variance = 0.5946\n",
      "Feature 28: Mean = -0.1267, Variance = 0.8026\n",
      "Feature 29: Mean = -0.1828, Variance = 0.4041\n",
      "Feature 30: Mean = 0.0070, Variance = 1.2242\n",
      "Feature 31: Mean = -0.0334, Variance = 1.0256\n",
      "Feature 32: Mean = 0.0050, Variance = 0.9960\n",
      "Feature 33: Mean = 0.2002, Variance = 1.0306\n",
      "Feature 34: Mean = -0.0096, Variance = 1.0695\n",
      "Feature 35: Mean = -0.0777, Variance = 0.8185\n",
      "Feature 36: Mean = 0.1720, Variance = 4.9093\n",
      "Feature 37: Mean = 0.3010, Variance = 11.0053\n",
      "Feature 38: Mean = 0.1774, Variance = 0.9737\n",
      "Feature 39: Mean = 0.0475, Variance = 0.8089\n",
      "Feature 40: Mean = -0.0235, Variance = 0.8894\n",
      "Feature 41: Mean = 0.0818, Variance = 2.4354\n",
      "Feature 42: Mean = 0.2213, Variance = 2.2149\n",
      "Feature 43: Mean = 0.0405, Variance = 1.5090\n",
      "Feature 44: Mean = -0.1162, Variance = 0.8938\n",
      "Feature 45: Mean = -0.0298, Variance = 1.3206\n",
      "Feature 46: Mean = 0.1043, Variance = 0.8156\n",
      "Feature 47: Mean = 0.1151, Variance = 1.1993\n",
      "Feature 48: Mean = 0.0960, Variance = 2.2325\n",
      "Feature 49: Mean = -0.0689, Variance = 1.2203\n",
      "Feature 50: Mean = -0.0502, Variance = 0.9333\n",
      "Feature 51: Mean = -0.1321, Variance = 1.1945\n",
      "Feature 52: Mean = 0.0353, Variance = 1.3139\n",
      "Feature 53: Mean = -0.0011, Variance = 1.3930\n",
      "Feature 54: Mean = 0.0083, Variance = 0.8647\n",
      "Feature 55: Mean = 0.2277, Variance = 1.9402\n",
      "Feature 56: Mean = -0.0358, Variance = 1.0322\n",
      "Feature 57: Mean = 0.1374, Variance = 1.0682\n",
      "Feature 58: Mean = 0.1366, Variance = 1.2131\n",
      "Feature 59: Mean = 0.0415, Variance = 1.7374\n",
      "Feature 60: Mean = -0.0109, Variance = 1.8710\n",
      "Feature 61: Mean = -0.0553, Variance = 1.0111\n"
     ]
    }
   ],
   "source": [
    "# Use the same scaler to transform the test data\n",
    "X_test_scaled = scaler.transform(X_test)\n",
    "\n",
    "# Compute the mean and variance of the normalized features in the test data\n",
    "mean_values_test = np.mean(X_test_scaled, axis=0)\n",
    "variance_values_test = np.var(X_test_scaled, axis=0)\n",
    "\n",
    "# Print the mean and variance for each feature in the transformed test data\n",
    "for feature_index, (mean, variance) in enumerate(zip(mean_values_test, variance_values_test)):\n",
    "    print(f\"Feature {feature_index + 1}: Mean = {mean:.4f}, Variance = {variance:.4f}\")\n"
   ]
  },
  {
   "cell_type": "code",
   "execution_count": 41,
   "metadata": {},
   "outputs": [
    {
     "name": "stdout",
     "output_type": "stream",
     "text": [
      "Best hyperparameters: {'C': 1, 'gamma': 0.01}\n",
      "Training 0-1 Loss: 0.0467\n",
      "Test 0-1 Loss: 0.2073\n"
     ]
    }
   ],
   "source": [
    "param_grid = {\n",
    "    'C': [0.001, 0.01, 0.1, 1, 10, 100, 1000],\n",
    "    'gamma': [0.001, 0.01, 0.1, 1, 10, 100, 1000]\n",
    "}\n",
    "\n",
    "# Create an SVM classifier\n",
    "svm = SVC(kernel='rbf')  # 'rbf' kernel is commonly used for SVM\n",
    "\n",
    "# Create a scaler for normalization\n",
    "scaler = StandardScaler()\n",
    "\n",
    "# Perform grid search with 5-fold cross-validation using zero_one_loss as the scoring metric\n",
    "grid_search = GridSearchCV(svm, param_grid, cv=5, scoring='accuracy', n_jobs=-1)\n",
    "grid_search.fit(scaler.fit_transform(X_train), y_train)\n",
    "\n",
    "# Print the best hyperparameters\n",
    "print(\"Best hyperparameters:\", grid_search.best_params_)\n",
    "\n",
    "# Get the best SVM model\n",
    "best_svm = grid_search.best_estimator_\n",
    "\n",
    "# Train the best model using the complete training dataset\n",
    "best_svm.fit(scaler.transform(X_train), y_train)\n",
    "\n",
    "# Evaluate the training set error (0-1 loss)\n",
    "training_error = zero_one_loss(y_train, best_svm.predict(scaler.transform(X_train)))\n",
    "print(f\"Training 0-1 Loss: {training_error:.4f}\")\n",
    "\n",
    "# Predict labels on the test set using the trained model\n",
    "y_test_pred = best_svm.predict(scaler.transform(X_test))\n",
    "\n",
    "# Calculate the zero-one loss on the test set\n",
    "test_error = zero_one_loss(y_test, y_test_pred)\n",
    "print(f\"Test 0-1 Loss: {test_error:.4f}\")"
   ]
  },
  {
   "cell_type": "code",
   "execution_count": 43,
   "metadata": {},
   "outputs": [
    {
     "name": "stdout",
     "output_type": "stream",
     "text": [
      "C = 0.001: Bounded Support Vectors = 0, Free Support Vectors = 68\n",
      "C = 0.01: Bounded Support Vectors = 7, Free Support Vectors = 64\n",
      "C = 0.1: Bounded Support Vectors = 9, Free Support Vectors = 62\n",
      "C = 1: Bounded Support Vectors = 23, Free Support Vectors = 22\n",
      "C = 10: Bounded Support Vectors = 40, Free Support Vectors = 0\n",
      "C = 100: Bounded Support Vectors = 40, Free Support Vectors = 0\n"
     ]
    }
   ],
   "source": [
    "# List of different C values to experiment with\n",
    "C_values = [0.001, 0.01, 0.1, 1, 10, 100]\n",
    "\n",
    "# Iterate over different C values\n",
    "for C in C_values:\n",
    "    # Create an SVM classifier with the specified C\n",
    "    svm = SVC(kernel='rbf', C=C)\n",
    "    \n",
    "    # Fit the SVM model\n",
    "    svm.fit(X_train_scaled, y_train)\n",
    "    \n",
    "    # Count the number of bounded and free support vectors\n",
    "    bounded_support_vectors = np.sum(np.logical_and(0 < svm.dual_coef_.ravel(), svm.dual_coef_.ravel() < C))\n",
    "    free_support_vectors = np.sum(svm.dual_coef_.ravel() == C)\n",
    "    \n",
    "    # Print the results\n",
    "    print(f\"C = {C}: Bounded Support Vectors = {bounded_support_vectors}, Free Support Vectors = {free_support_vectors}\")"
   ]
  }
 ],
 "metadata": {
  "kernelspec": {
   "display_name": "base",
   "language": "python",
   "name": "python3"
  },
  "language_info": {
   "codemirror_mode": {
    "name": "ipython",
    "version": 3
   },
   "file_extension": ".py",
   "mimetype": "text/x-python",
   "name": "python",
   "nbconvert_exporter": "python",
   "pygments_lexer": "ipython3",
   "version": "3.8.16"
  }
 },
 "nbformat": 4,
 "nbformat_minor": 2
}
